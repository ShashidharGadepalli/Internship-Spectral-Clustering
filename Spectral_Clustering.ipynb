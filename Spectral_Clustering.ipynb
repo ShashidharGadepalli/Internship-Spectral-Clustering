{
  "cells": [
    {
      "cell_type": "code",
      "execution_count": 1,
      "metadata": {
        "id": "5ENoKDxKD0io"
      },
      "outputs": [],
      "source": [
        "import pandas as pd\n",
        "import numpy as np\n",
        "import matplotlib.pyplot as plt\n",
        "import seaborn as sns\n",
        "sns.set_style('darkgrid', {'axes.facecolor': '.9'})\n",
        "sns.set_palette(palette='deep')\n",
        "sns_c = sns.color_palette(palette='deep')\n",
        "%matplotlib inline\n",
        "\n",
        "from pandas.plotting import register_matplotlib_converters\n",
        "register_matplotlib_converters()"
      ]
    },
    {
      "cell_type": "code",
      "source": [
        "\n",
        "df_total_masked =  pd.read_csv('filtered.csv',index_col=0,parse_dates=['date']).sort_index()\n",
        "data = (((df_total_masked)).dropna())"
      ],
      "metadata": {
        "id": "ji1MjQXbzYC7"
      },
      "execution_count": 2,
      "outputs": []
    },
    {
      "cell_type": "code",
      "source": [
        "data.head()"
      ],
      "metadata": {
        "colab": {
          "base_uri": "https://localhost:8080/",
          "height": 235
        },
        "id": "3iWsDJTV2Vrn",
        "outputId": "da8c147e-b112-4355-b886-8b37c5b4a760"
      },
      "execution_count": 3,
      "outputs": [
        {
          "output_type": "execute_result",
          "data": {
            "text/plain": [
              "                   _latitude  _longitude       date\n",
              "_time_location                                     \n",
              "20101117145556WED   0.546587    0.292711 2010-11-17\n",
              "20101117171724WED   0.000000    0.292637 2010-11-17\n",
              "20101117180215WED   0.476190    0.292724 2010-11-17\n",
              "20101117190941WED   0.479296    0.292536 2010-11-17\n",
              "20101117211820WED   0.477106    0.295028 2010-11-17"
            ],
            "text/html": [
              "\n",
              "  <div id=\"df-ffff96c2-a5f9-4ff5-9507-503d98acf6db\">\n",
              "    <div class=\"colab-df-container\">\n",
              "      <div>\n",
              "<style scoped>\n",
              "    .dataframe tbody tr th:only-of-type {\n",
              "        vertical-align: middle;\n",
              "    }\n",
              "\n",
              "    .dataframe tbody tr th {\n",
              "        vertical-align: top;\n",
              "    }\n",
              "\n",
              "    .dataframe thead th {\n",
              "        text-align: right;\n",
              "    }\n",
              "</style>\n",
              "<table border=\"1\" class=\"dataframe\">\n",
              "  <thead>\n",
              "    <tr style=\"text-align: right;\">\n",
              "      <th></th>\n",
              "      <th>_latitude</th>\n",
              "      <th>_longitude</th>\n",
              "      <th>date</th>\n",
              "    </tr>\n",
              "    <tr>\n",
              "      <th>_time_location</th>\n",
              "      <th></th>\n",
              "      <th></th>\n",
              "      <th></th>\n",
              "    </tr>\n",
              "  </thead>\n",
              "  <tbody>\n",
              "    <tr>\n",
              "      <th>20101117145556WED</th>\n",
              "      <td>0.546587</td>\n",
              "      <td>0.292711</td>\n",
              "      <td>2010-11-17</td>\n",
              "    </tr>\n",
              "    <tr>\n",
              "      <th>20101117171724WED</th>\n",
              "      <td>0.000000</td>\n",
              "      <td>0.292637</td>\n",
              "      <td>2010-11-17</td>\n",
              "    </tr>\n",
              "    <tr>\n",
              "      <th>20101117180215WED</th>\n",
              "      <td>0.476190</td>\n",
              "      <td>0.292724</td>\n",
              "      <td>2010-11-17</td>\n",
              "    </tr>\n",
              "    <tr>\n",
              "      <th>20101117190941WED</th>\n",
              "      <td>0.479296</td>\n",
              "      <td>0.292536</td>\n",
              "      <td>2010-11-17</td>\n",
              "    </tr>\n",
              "    <tr>\n",
              "      <th>20101117211820WED</th>\n",
              "      <td>0.477106</td>\n",
              "      <td>0.295028</td>\n",
              "      <td>2010-11-17</td>\n",
              "    </tr>\n",
              "  </tbody>\n",
              "</table>\n",
              "</div>\n",
              "      <button class=\"colab-df-convert\" onclick=\"convertToInteractive('df-ffff96c2-a5f9-4ff5-9507-503d98acf6db')\"\n",
              "              title=\"Convert this dataframe to an interactive table.\"\n",
              "              style=\"display:none;\">\n",
              "        \n",
              "  <svg xmlns=\"http://www.w3.org/2000/svg\" height=\"24px\"viewBox=\"0 0 24 24\"\n",
              "       width=\"24px\">\n",
              "    <path d=\"M0 0h24v24H0V0z\" fill=\"none\"/>\n",
              "    <path d=\"M18.56 5.44l.94 2.06.94-2.06 2.06-.94-2.06-.94-.94-2.06-.94 2.06-2.06.94zm-11 1L8.5 8.5l.94-2.06 2.06-.94-2.06-.94L8.5 2.5l-.94 2.06-2.06.94zm10 10l.94 2.06.94-2.06 2.06-.94-2.06-.94-.94-2.06-.94 2.06-2.06.94z\"/><path d=\"M17.41 7.96l-1.37-1.37c-.4-.4-.92-.59-1.43-.59-.52 0-1.04.2-1.43.59L10.3 9.45l-7.72 7.72c-.78.78-.78 2.05 0 2.83L4 21.41c.39.39.9.59 1.41.59.51 0 1.02-.2 1.41-.59l7.78-7.78 2.81-2.81c.8-.78.8-2.07 0-2.86zM5.41 20L4 18.59l7.72-7.72 1.47 1.35L5.41 20z\"/>\n",
              "  </svg>\n",
              "      </button>\n",
              "      \n",
              "  <style>\n",
              "    .colab-df-container {\n",
              "      display:flex;\n",
              "      flex-wrap:wrap;\n",
              "      gap: 12px;\n",
              "    }\n",
              "\n",
              "    .colab-df-convert {\n",
              "      background-color: #E8F0FE;\n",
              "      border: none;\n",
              "      border-radius: 50%;\n",
              "      cursor: pointer;\n",
              "      display: none;\n",
              "      fill: #1967D2;\n",
              "      height: 32px;\n",
              "      padding: 0 0 0 0;\n",
              "      width: 32px;\n",
              "    }\n",
              "\n",
              "    .colab-df-convert:hover {\n",
              "      background-color: #E2EBFA;\n",
              "      box-shadow: 0px 1px 2px rgba(60, 64, 67, 0.3), 0px 1px 3px 1px rgba(60, 64, 67, 0.15);\n",
              "      fill: #174EA6;\n",
              "    }\n",
              "\n",
              "    [theme=dark] .colab-df-convert {\n",
              "      background-color: #3B4455;\n",
              "      fill: #D2E3FC;\n",
              "    }\n",
              "\n",
              "    [theme=dark] .colab-df-convert:hover {\n",
              "      background-color: #434B5C;\n",
              "      box-shadow: 0px 1px 3px 1px rgba(0, 0, 0, 0.15);\n",
              "      filter: drop-shadow(0px 1px 2px rgba(0, 0, 0, 0.3));\n",
              "      fill: #FFFFFF;\n",
              "    }\n",
              "  </style>\n",
              "\n",
              "      <script>\n",
              "        const buttonEl =\n",
              "          document.querySelector('#df-ffff96c2-a5f9-4ff5-9507-503d98acf6db button.colab-df-convert');\n",
              "        buttonEl.style.display =\n",
              "          google.colab.kernel.accessAllowed ? 'block' : 'none';\n",
              "\n",
              "        async function convertToInteractive(key) {\n",
              "          const element = document.querySelector('#df-ffff96c2-a5f9-4ff5-9507-503d98acf6db');\n",
              "          const dataTable =\n",
              "            await google.colab.kernel.invokeFunction('convertToInteractive',\n",
              "                                                     [key], {});\n",
              "          if (!dataTable) return;\n",
              "\n",
              "          const docLinkHtml = 'Like what you see? Visit the ' +\n",
              "            '<a target=\"_blank\" href=https://colab.research.google.com/notebooks/data_table.ipynb>data table notebook</a>'\n",
              "            + ' to learn more about interactive tables.';\n",
              "          element.innerHTML = '';\n",
              "          dataTable['output_type'] = 'display_data';\n",
              "          await google.colab.output.renderOutput(dataTable, element);\n",
              "          const docLink = document.createElement('div');\n",
              "          docLink.innerHTML = docLinkHtml;\n",
              "          element.appendChild(docLink);\n",
              "        }\n",
              "      </script>\n",
              "    </div>\n",
              "  </div>\n",
              "  "
            ]
          },
          "metadata": {},
          "execution_count": 3
        }
      ]
    },
    {
      "cell_type": "code",
      "source": [
        ""
      ],
      "metadata": {
        "id": "XQ-J4bBuLeSe"
      },
      "execution_count": null,
      "outputs": []
    },
    {
      "cell_type": "code",
      "source": [
        "data.groupby('date')['date'].count()"
      ],
      "metadata": {
        "colab": {
          "base_uri": "https://localhost:8080/"
        },
        "id": "M4KyLKB-0RAS",
        "outputId": "d0148b34-5299-4ebc-c2f1-5ab128d9890a"
      },
      "execution_count": 4,
      "outputs": [
        {
          "output_type": "execute_result",
          "data": {
            "text/plain": [
              "date\n",
              "2010-11-17     9\n",
              "2010-11-18    35\n",
              "2010-11-19    17\n",
              "2010-11-20    51\n",
              "2010-11-22    16\n",
              "              ..\n",
              "2011-08-10    13\n",
              "2011-08-11    25\n",
              "2011-08-12    28\n",
              "2011-08-13    28\n",
              "2011-08-14     2\n",
              "Name: date, Length: 238, dtype: int64"
            ]
          },
          "metadata": {},
          "execution_count": 4
        }
      ]
    },
    {
      "cell_type": "code",
      "source": [
        "data=data.groupby(['date'],as_index=False).agg({'_latitude':'mean','_longitude':'mean'})"
      ],
      "metadata": {
        "id": "sD__ykkO0YK7"
      },
      "execution_count": 5,
      "outputs": []
    },
    {
      "cell_type": "code",
      "source": [
        "data=data.drop(['date'],axis=1)"
      ],
      "metadata": {
        "id": "fueDwZGY0e1q"
      },
      "execution_count": 6,
      "outputs": []
    },
    {
      "cell_type": "code",
      "source": [
        "data"
      ],
      "metadata": {
        "colab": {
          "base_uri": "https://localhost:8080/",
          "height": 419
        },
        "id": "QEmv4SQE0gcb",
        "outputId": "b57b0e0b-dfda-45b4-aefa-ee157347a41e"
      },
      "execution_count": 7,
      "outputs": [
        {
          "output_type": "execute_result",
          "data": {
            "text/plain": [
              "     _latitude  _longitude\n",
              "0     0.439841    0.293690\n",
              "1     0.492882    0.306010\n",
              "2     0.509230    0.302110\n",
              "3     0.392579    0.320544\n",
              "4     0.535613    0.268649\n",
              "..         ...         ...\n",
              "233   0.504051    0.277518\n",
              "234   0.510569    0.278292\n",
              "235   0.480957    0.294122\n",
              "236   0.419341    0.324952\n",
              "237   0.476371    0.292709\n",
              "\n",
              "[238 rows x 2 columns]"
            ],
            "text/html": [
              "\n",
              "  <div id=\"df-961050df-d333-422a-bb9c-638e809a04b1\">\n",
              "    <div class=\"colab-df-container\">\n",
              "      <div>\n",
              "<style scoped>\n",
              "    .dataframe tbody tr th:only-of-type {\n",
              "        vertical-align: middle;\n",
              "    }\n",
              "\n",
              "    .dataframe tbody tr th {\n",
              "        vertical-align: top;\n",
              "    }\n",
              "\n",
              "    .dataframe thead th {\n",
              "        text-align: right;\n",
              "    }\n",
              "</style>\n",
              "<table border=\"1\" class=\"dataframe\">\n",
              "  <thead>\n",
              "    <tr style=\"text-align: right;\">\n",
              "      <th></th>\n",
              "      <th>_latitude</th>\n",
              "      <th>_longitude</th>\n",
              "    </tr>\n",
              "  </thead>\n",
              "  <tbody>\n",
              "    <tr>\n",
              "      <th>0</th>\n",
              "      <td>0.439841</td>\n",
              "      <td>0.293690</td>\n",
              "    </tr>\n",
              "    <tr>\n",
              "      <th>1</th>\n",
              "      <td>0.492882</td>\n",
              "      <td>0.306010</td>\n",
              "    </tr>\n",
              "    <tr>\n",
              "      <th>2</th>\n",
              "      <td>0.509230</td>\n",
              "      <td>0.302110</td>\n",
              "    </tr>\n",
              "    <tr>\n",
              "      <th>3</th>\n",
              "      <td>0.392579</td>\n",
              "      <td>0.320544</td>\n",
              "    </tr>\n",
              "    <tr>\n",
              "      <th>4</th>\n",
              "      <td>0.535613</td>\n",
              "      <td>0.268649</td>\n",
              "    </tr>\n",
              "    <tr>\n",
              "      <th>...</th>\n",
              "      <td>...</td>\n",
              "      <td>...</td>\n",
              "    </tr>\n",
              "    <tr>\n",
              "      <th>233</th>\n",
              "      <td>0.504051</td>\n",
              "      <td>0.277518</td>\n",
              "    </tr>\n",
              "    <tr>\n",
              "      <th>234</th>\n",
              "      <td>0.510569</td>\n",
              "      <td>0.278292</td>\n",
              "    </tr>\n",
              "    <tr>\n",
              "      <th>235</th>\n",
              "      <td>0.480957</td>\n",
              "      <td>0.294122</td>\n",
              "    </tr>\n",
              "    <tr>\n",
              "      <th>236</th>\n",
              "      <td>0.419341</td>\n",
              "      <td>0.324952</td>\n",
              "    </tr>\n",
              "    <tr>\n",
              "      <th>237</th>\n",
              "      <td>0.476371</td>\n",
              "      <td>0.292709</td>\n",
              "    </tr>\n",
              "  </tbody>\n",
              "</table>\n",
              "<p>238 rows × 2 columns</p>\n",
              "</div>\n",
              "      <button class=\"colab-df-convert\" onclick=\"convertToInteractive('df-961050df-d333-422a-bb9c-638e809a04b1')\"\n",
              "              title=\"Convert this dataframe to an interactive table.\"\n",
              "              style=\"display:none;\">\n",
              "        \n",
              "  <svg xmlns=\"http://www.w3.org/2000/svg\" height=\"24px\"viewBox=\"0 0 24 24\"\n",
              "       width=\"24px\">\n",
              "    <path d=\"M0 0h24v24H0V0z\" fill=\"none\"/>\n",
              "    <path d=\"M18.56 5.44l.94 2.06.94-2.06 2.06-.94-2.06-.94-.94-2.06-.94 2.06-2.06.94zm-11 1L8.5 8.5l.94-2.06 2.06-.94-2.06-.94L8.5 2.5l-.94 2.06-2.06.94zm10 10l.94 2.06.94-2.06 2.06-.94-2.06-.94-.94-2.06-.94 2.06-2.06.94z\"/><path d=\"M17.41 7.96l-1.37-1.37c-.4-.4-.92-.59-1.43-.59-.52 0-1.04.2-1.43.59L10.3 9.45l-7.72 7.72c-.78.78-.78 2.05 0 2.83L4 21.41c.39.39.9.59 1.41.59.51 0 1.02-.2 1.41-.59l7.78-7.78 2.81-2.81c.8-.78.8-2.07 0-2.86zM5.41 20L4 18.59l7.72-7.72 1.47 1.35L5.41 20z\"/>\n",
              "  </svg>\n",
              "      </button>\n",
              "      \n",
              "  <style>\n",
              "    .colab-df-container {\n",
              "      display:flex;\n",
              "      flex-wrap:wrap;\n",
              "      gap: 12px;\n",
              "    }\n",
              "\n",
              "    .colab-df-convert {\n",
              "      background-color: #E8F0FE;\n",
              "      border: none;\n",
              "      border-radius: 50%;\n",
              "      cursor: pointer;\n",
              "      display: none;\n",
              "      fill: #1967D2;\n",
              "      height: 32px;\n",
              "      padding: 0 0 0 0;\n",
              "      width: 32px;\n",
              "    }\n",
              "\n",
              "    .colab-df-convert:hover {\n",
              "      background-color: #E2EBFA;\n",
              "      box-shadow: 0px 1px 2px rgba(60, 64, 67, 0.3), 0px 1px 3px 1px rgba(60, 64, 67, 0.15);\n",
              "      fill: #174EA6;\n",
              "    }\n",
              "\n",
              "    [theme=dark] .colab-df-convert {\n",
              "      background-color: #3B4455;\n",
              "      fill: #D2E3FC;\n",
              "    }\n",
              "\n",
              "    [theme=dark] .colab-df-convert:hover {\n",
              "      background-color: #434B5C;\n",
              "      box-shadow: 0px 1px 3px 1px rgba(0, 0, 0, 0.15);\n",
              "      filter: drop-shadow(0px 1px 2px rgba(0, 0, 0, 0.3));\n",
              "      fill: #FFFFFF;\n",
              "    }\n",
              "  </style>\n",
              "\n",
              "      <script>\n",
              "        const buttonEl =\n",
              "          document.querySelector('#df-961050df-d333-422a-bb9c-638e809a04b1 button.colab-df-convert');\n",
              "        buttonEl.style.display =\n",
              "          google.colab.kernel.accessAllowed ? 'block' : 'none';\n",
              "\n",
              "        async function convertToInteractive(key) {\n",
              "          const element = document.querySelector('#df-961050df-d333-422a-bb9c-638e809a04b1');\n",
              "          const dataTable =\n",
              "            await google.colab.kernel.invokeFunction('convertToInteractive',\n",
              "                                                     [key], {});\n",
              "          if (!dataTable) return;\n",
              "\n",
              "          const docLinkHtml = 'Like what you see? Visit the ' +\n",
              "            '<a target=\"_blank\" href=https://colab.research.google.com/notebooks/data_table.ipynb>data table notebook</a>'\n",
              "            + ' to learn more about interactive tables.';\n",
              "          element.innerHTML = '';\n",
              "          dataTable['output_type'] = 'display_data';\n",
              "          await google.colab.output.renderOutput(dataTable, element);\n",
              "          const docLink = document.createElement('div');\n",
              "          docLink.innerHTML = docLinkHtml;\n",
              "          element.appendChild(docLink);\n",
              "        }\n",
              "      </script>\n",
              "    </div>\n",
              "  </div>\n",
              "  "
            ]
          },
          "metadata": {},
          "execution_count": 7
        }
      ]
    },
    {
      "cell_type": "markdown",
      "source": [
        "K means For referral purposes"
      ],
      "metadata": {
        "id": "XjQhNADBC4hV"
      }
    },
    {
      "cell_type": "code",
      "execution_count": 13,
      "metadata": {
        "id": "ZaVpvVtwFaas",
        "colab": {
          "base_uri": "https://localhost:8080/",
          "height": 404
        },
        "outputId": "3943f6b0-9813-4b8a-cca7-f0d28a60fc14"
      },
      "outputs": [
        {
          "output_type": "display_data",
          "data": {
            "text/plain": [
              "<Figure size 720x432 with 1 Axes>"
            ],
            "image/png": "[encoded data removed]"
          },
          "metadata": {
            "needs_background": "light"
          }
        }
      ],
      "source": [
        "from sklearn.cluster import KMeans\n",
        "\n",
        "inertias = []\n",
        "\n",
        "k_candidates = range(1, 10)\n",
        "\n",
        "for k in k_candidates:\n",
        "    k_means = KMeans(random_state=42, n_clusters=k)\n",
        "    k_means.fit(data)\n",
        "    inertias.append(k_means.inertia_)\n",
        "\n",
        "fig, ax = plt.subplots(figsize=(10, 6))\n",
        "sns.scatterplot(x=k_candidates, y = inertias, s=80, ax=ax)\n",
        "sns.scatterplot(x=[k_candidates[2]], y = [inertias[2]], color=sns_c[2], s=150, ax=ax)\n",
        "sns.lineplot(x=k_candidates, y = inertias, alpha=0.5, ax=ax)\n",
        "ax.set(title='Inertia K-Means', ylabel='inertia', xlabel='k');"
      ]
    },
    {
      "cell_type": "code",
      "execution_count": 14,
      "metadata": {
        "id": "VcUjD45LFhL_",
        "colab": {
          "base_uri": "https://localhost:8080/",
          "height": 296
        },
        "outputId": "1d1db3d2-655a-4b19-929a-a932c0c2e5e0"
      },
      "outputs": [
        {
          "output_type": "display_data",
          "data": {
            "text/plain": [
              "<Figure size 432x288 with 1 Axes>"
            ],
            "image/png": "[encoded data removed]"
          },
          "metadata": {
            "needs_background": "light"
          }
        }
      ],
      "source": [
        "k_means = KMeans(random_state=42, n_clusters=3)\n",
        "k_means.fit(data)\n",
        "cluster = k_means.predict(data)\n",
        "\n",
        "cluster = ['k-means_c_' + str(c) for c in cluster]\n",
        "\n",
        "fig, ax = plt.subplots()\n",
        "sns.scatterplot(x='_longitude', y='_latitude', data=data.assign(cluster = cluster), hue='cluster', ax=ax)\n",
        "ax.set(title='K-Means Clustering');"
      ]
    },
    {
      "cell_type": "markdown",
      "source": [
        "### Graph laplacian matrix\n",
        "\n",
        "helpful in eigenvector and value calculations"
      ],
      "metadata": {
        "id": "_C_8nHzbB5TR"
      }
    },
    {
      "cell_type": "code",
      "source": [
        "from scipy.sparse import csgraph"
      ],
      "metadata": {
        "id": "LmtrVL94Aemq"
      },
      "execution_count": 15,
      "outputs": []
    },
    {
      "cell_type": "code",
      "execution_count": 16,
      "metadata": {
        "id": "1U21A7BuD9Y8",
        "colab": {
          "base_uri": "https://localhost:8080/",
          "height": 1000
        },
        "outputId": "5428778e-372d-4cdb-bbf0-8e3fe521bf9a"
      },
      "outputs": [
        {
          "output_type": "stream",
          "name": "stdout",
          "text": [
            "  (0, 159)\t0.5\n",
            "  (0, 73)\t0.5\n",
            "  (0, 56)\t0.5\n",
            "  (0, 8)\t0.5\n",
            "  (0, 90)\t1.0\n",
            "  (0, 169)\t0.5\n",
            "  (0, 203)\t0.5\n",
            "  (0, 130)\t1.0\n",
            "  (0, 172)\t1.0\n",
            "  (0, 139)\t1.0\n",
            "  (0, 165)\t1.0\n",
            "  (0, 43)\t1.0\n",
            "  (1, 227)\t0.5\n",
            "  (1, 138)\t0.5\n",
            "  (1, 176)\t0.5\n",
            "  (1, 185)\t1.0\n",
            "  (1, 156)\t1.0\n",
            "  (1, 208)\t1.0\n",
            "  (1, 209)\t1.0\n",
            "  (1, 33)\t1.0\n",
            "  (2, 178)\t0.5\n",
            "  (2, 230)\t1.0\n",
            "  (2, 156)\t1.0\n",
            "  (2, 131)\t1.0\n",
            "  (2, 215)\t1.0\n",
            "  :\t:\n",
            "  (236, 53)\t0.5\n",
            "  (236, 52)\t0.5\n",
            "  (236, 3)\t1.0\n",
            "  (236, 202)\t1.0\n",
            "  (236, 130)\t0.5\n",
            "  (236, 73)\t1.0\n",
            "  (236, 159)\t1.0\n",
            "  (236, 90)\t1.0\n",
            "  (236, 117)\t1.0\n",
            "  (236, 37)\t1.0\n",
            "  (237, 214)\t0.5\n",
            "  (237, 207)\t0.5\n",
            "  (237, 189)\t0.5\n",
            "  (237, 136)\t0.5\n",
            "  (237, 118)\t0.5\n",
            "  (237, 61)\t0.5\n",
            "  (237, 51)\t0.5\n",
            "  (237, 179)\t0.5\n",
            "  (237, 41)\t0.5\n",
            "  (237, 134)\t1.0\n",
            "  (237, 16)\t0.5\n",
            "  (237, 223)\t1.0\n",
            "  (237, 17)\t1.0\n",
            "  (237, 229)\t1.0\n",
            "  (237, 91)\t1.0\n",
            "Graph laplacian [[ 9.   0.   0.  ...  0.   0.   0. ]\n",
            " [ 0.   6.5  0.  ...  0.   0.   0. ]\n",
            " [ 0.   0.   7.5 ...  0.   0.   0. ]\n",
            " ...\n",
            " [ 0.   0.   0.  ...  6.   0.   0. ]\n",
            " [ 0.   0.   0.  ...  0.   8.5  0. ]\n",
            " [ 0.   0.   0.  ...  0.   0.  10. ]]\n"
          ]
        },
        {
          "output_type": "execute_result",
          "data": {
            "text/plain": [
              "\"\\n# Plot the graph Laplacian as heat map.\\nfig, ax = plt.subplots(figsize=(10, 8))\\nsns.heatmap(graph_laplacian, ax=ax, cmap='viridis_r')\\nax.set(title='Graph Laplacian')\\n\""
            ],
            "application/vnd.google.colaboratory.intrinsic+json": {
              "type": "string"
            }
          },
          "metadata": {},
          "execution_count": 16
        }
      ],
      "source": [
        "from sklearn.neighbors import kneighbors_graph\n",
        "from scipy import sparse\n",
        "\n",
        "def generate_graph_laplacian(df, nn):\n",
        "    \"\"\"Generate graph Laplacian from data.\"\"\"\n",
        "    # Adjacency Matrix.\n",
        "    connectivity = kneighbors_graph(X=df, n_neighbors=nn, mode='connectivity')\n",
        "    adjacency_matrix_s = (1/2)*(connectivity + connectivity.T)\n",
        "    # Graph Laplacian.\n",
        "    graph_laplacian_s = sparse.csgraph.laplacian(csgraph=adjacency_matrix_s, normed=False)\n",
        "    graph_laplacian = graph_laplacian_s.toarray()\n",
        "    print(adjacency_matrix_s)\n",
        "    return graph_laplacian \n",
        "    \n",
        "    \n",
        "graph_laplacian = generate_graph_laplacian(df=data, nn=8)\n",
        "print(\"Graph laplacian\", graph_laplacian)\n",
        "'''\n",
        "# Plot the graph Laplacian as heat map.\n",
        "fig, ax = plt.subplots(figsize=(10, 8))\n",
        "sns.heatmap(graph_laplacian, ax=ax, cmap='viridis_r')\n",
        "ax.set(title='Graph Laplacian')\n",
        "'''"
      ]
    },
    {
      "cell_type": "code",
      "source": [
        "fig, ax = plt.subplots(figsize=(10, 8))\n",
        "sns.heatmap(graph_laplacian, ax=ax, cmap='viridis_r')\n",
        "ax.set(title='Graph Laplacian')\n"
      ],
      "metadata": {
        "colab": {
          "base_uri": "https://localhost:8080/",
          "height": 525
        },
        "id": "YIdESnJ2UZBZ",
        "outputId": "735508e5-573f-403d-c6ba-b174fcf68f45"
      },
      "execution_count": 17,
      "outputs": [
        {
          "output_type": "execute_result",
          "data": {
            "text/plain": [
              "[Text(0.5, 1.0, 'Graph Laplacian')]"
            ]
          },
          "metadata": {},
          "execution_count": 17
        },
        {
          "output_type": "display_data",
          "data": {
            "text/plain": [
              "<Figure size 720x576 with 2 Axes>"
            ],
            "image/png": "[encoded data removed]"
          },
          "metadata": {
            "needs_background": "light"
          }
        }
      ]
    },
    {
      "cell_type": "markdown",
      "metadata": {
        "id": "bwVk0hKlfT3e"
      },
      "source": [
        "EIGENVALUE COMPUTATIONS"
      ]
    },
    {
      "cell_type": "code",
      "execution_count": 18,
      "metadata": {
        "id": "J-1IeKlVE43z"
      },
      "outputs": [],
      "source": [
        "from scipy import linalg\n",
        "eigenvals, eigenvcts = linalg.eig(graph_laplacian)"
      ]
    },
    {
      "cell_type": "code",
      "execution_count": 19,
      "metadata": {
        "id": "5ylnVdBtfX_Q",
        "colab": {
          "base_uri": "https://localhost:8080/"
        },
        "outputId": "ad68f63c-70f4-4ef8-8d06-4f86f8bed532"
      },
      "outputs": [
        {
          "output_type": "execute_result",
          "data": {
            "text/plain": [
              "array([1.77635684e-15+0.j, 5.48492163e-02+0.j, 1.45993647e-01+0.j,\n",
              "       1.99209451e-01+0.j, 2.50181764e-01+0.j, 3.92273227e-01+0.j,\n",
              "       5.64396909e-01+0.j, 7.28051973e-01+0.j, 9.56326348e-01+0.j,\n",
              "       9.91018077e-01+0.j, 1.02882845e+00+0.j, 1.08543442e+00+0.j,\n",
              "       1.25619349e+00+0.j, 1.40706141e+00+0.j, 1.51818693e+00+0.j,\n",
              "       1.83343947e+00+0.j, 2.04068507e+00+0.j, 2.36918662e+00+0.j,\n",
              "       2.50920863e+00+0.j, 2.62948204e+00+0.j, 2.75620761e+00+0.j,\n",
              "       2.83439758e+00+0.j, 3.10408704e+00+0.j, 3.19865349e+00+0.j,\n",
              "       3.41498622e+00+0.j, 3.53563459e+00+0.j, 3.64320016e+00+0.j,\n",
              "       3.82379442e+00+0.j, 3.95066351e+00+0.j, 4.15068220e+00+0.j,\n",
              "       4.21513426e+00+0.j, 4.30240484e+00+0.j, 4.32419294e+00+0.j,\n",
              "       4.37582874e+00+0.j, 4.49946387e+00+0.j, 4.63273343e+00+0.j,\n",
              "       4.69257926e+00+0.j, 4.90270725e+00+0.j, 4.93715338e+00+0.j,\n",
              "       5.03390646e+00+0.j, 5.07819043e+00+0.j, 5.13712790e+00+0.j,\n",
              "       1.26181516e+01+0.j, 1.26925983e+01+0.j, 1.25031473e+01+0.j,\n",
              "       1.23472200e+01+0.j, 5.23266220e+00+0.j, 5.32804341e+00+0.j,\n",
              "       5.42988465e+00+0.j, 5.45419362e+00+0.j, 5.53926699e+00+0.j,\n",
              "       5.58009146e+00+0.j, 5.65015349e+00+0.j, 5.84104525e+00+0.j,\n",
              "       5.74564989e+00+0.j, 5.77344735e+00+0.j, 1.21558158e+01+0.j,\n",
              "       1.20569484e+01+0.j, 1.19657071e+01+0.j, 1.17450707e+01+0.j,\n",
              "       1.19241713e+01+0.j, 1.19094287e+01+0.j, 5.98106559e+00+0.j,\n",
              "       6.01831201e+00+0.j, 6.13457432e+00+0.j, 6.17432860e+00+0.j,\n",
              "       6.21938162e+00+0.j, 6.38829023e+00+0.j, 1.16330433e+01+0.j,\n",
              "       1.15487364e+01+0.j, 6.44386884e+00+0.j, 6.49573364e+00+0.j,\n",
              "       6.50749051e+00+0.j, 6.52931382e+00+0.j, 6.55773367e+00+0.j,\n",
              "       6.62372546e+00+0.j, 6.65334812e+00+0.j, 6.72651876e+00+0.j,\n",
              "       6.76709152e+00+0.j, 1.15604272e+01+0.j, 1.15463681e+01+0.j,\n",
              "       1.15261098e+01+0.j, 1.15111438e+01+0.j, 1.14016136e+01+0.j,\n",
              "       1.14112548e+01+0.j, 1.13507413e+01+0.j, 1.13800823e+01+0.j,\n",
              "       6.95210963e+00+0.j, 7.06029989e+00+0.j, 7.09999729e+00+0.j,\n",
              "       7.15062349e+00+0.j, 7.18956479e+00+0.j, 1.13292053e+01+0.j,\n",
              "       1.12014445e+01+0.j, 1.12281046e+01+0.j, 1.12236504e+01+0.j,\n",
              "       7.26306528e+00+0.j, 7.34101612e+00+0.j, 7.39439115e+00+0.j,\n",
              "       7.42749286e+00+0.j, 7.44984517e+00+0.j, 1.11737455e+01+0.j,\n",
              "       1.11110038e+01+0.j, 1.11007097e+01+0.j, 1.09981531e+01+0.j,\n",
              "       1.10276678e+01+0.j, 1.10343243e+01+0.j, 1.10886060e+01+0.j,\n",
              "       1.09776376e+01+0.j, 7.00000000e+00+0.j, 7.49062976e+00+0.j,\n",
              "       7.52011887e+00+0.j, 7.57266174e+00+0.j, 7.57590539e+00+0.j,\n",
              "       7.62536447e+00+0.j, 7.70670878e+00+0.j, 7.67046234e+00+0.j,\n",
              "       1.10112590e+01+0.j, 1.09416792e+01+0.j, 1.09100769e+01+0.j,\n",
              "       1.08585054e+01+0.j, 1.08148373e+01+0.j, 1.07969269e+01+0.j,\n",
              "       1.07782071e+01+0.j, 1.07829177e+01+0.j, 7.75833539e+00+0.j,\n",
              "       7.78240687e+00+0.j, 7.81323269e+00+0.j, 7.86574092e+00+0.j,\n",
              "       7.82242459e+00+0.j, 1.06776474e+01+0.j, 1.06792323e+01+0.j,\n",
              "       7.93659449e+00+0.j, 1.06200957e+01+0.j, 1.06173509e+01+0.j,\n",
              "       7.96042803e+00+0.j, 8.00610160e+00+0.j, 7.99959503e+00+0.j,\n",
              "       8.05968748e+00+0.j, 8.10241047e+00+0.j, 8.11701307e+00+0.j,\n",
              "       8.13462687e+00+0.j, 8.16686197e+00+0.j, 8.21462845e+00+0.j,\n",
              "       1.05516551e+01+0.j, 1.05228530e+01+0.j, 1.04826280e+01+0.j,\n",
              "       1.04737271e+01+0.j, 1.04572925e+01+0.j, 1.04460497e+01+0.j,\n",
              "       1.04100877e+01+0.j, 1.03827778e+01+0.j, 1.03698702e+01+0.j,\n",
              "       8.26463670e+00+0.j, 8.26703937e+00+0.j, 1.03738908e+01+0.j,\n",
              "       8.29639119e+00+0.j, 8.34078779e+00+0.j, 8.38126625e+00+0.j,\n",
              "       1.03408525e+01+0.j, 1.02753028e+01+0.j, 1.02611112e+01+0.j,\n",
              "       1.03017366e+01+0.j, 1.02912480e+01+0.j, 1.02217232e+01+0.j,\n",
              "       1.01227494e+01+0.j, 1.01686866e+01+0.j, 8.40137142e+00+0.j,\n",
              "       8.44570601e+00+0.j, 8.78461566e+00+0.j, 8.75957459e+00+0.j,\n",
              "       8.72141321e+00+0.j, 8.46680377e+00+0.j, 8.68908431e+00+0.j,\n",
              "       8.48424757e+00+0.j, 8.54573317e+00+0.j, 8.50090831e+00+0.j,\n",
              "       8.61518584e+00+0.j, 8.57103108e+00+0.j, 8.58092110e+00+0.j,\n",
              "       8.85493152e+00+0.j, 8.85150992e+00+0.j, 1.05000000e+01+0.j,\n",
              "       1.01736078e+01+0.j, 1.00772753e+01+0.j, 1.00910677e+01+0.j,\n",
              "       8.63693801e+00+0.j, 1.00311647e+01+0.j, 9.84147015e+00+0.j,\n",
              "       9.87167679e+00+0.j, 9.79908037e+00+0.j, 8.94805067e+00+0.j,\n",
              "       8.97459579e+00+0.j, 9.02971451e+00+0.j, 9.00149270e+00+0.j,\n",
              "       9.07428305e+00+0.j, 9.78235176e+00+0.j, 9.76333382e+00+0.j,\n",
              "       9.88835060e+00+0.j, 9.97411048e+00+0.j, 1.00106805e+01+0.j,\n",
              "       1.00159523e+01+0.j, 8.63293783e+00+0.j, 9.91644345e+00+0.j,\n",
              "       9.14846806e+00+0.j, 9.15536966e+00+0.j, 8.92184906e+00+0.j,\n",
              "       9.70668205e+00+0.j, 9.68105304e+00+0.j, 9.63680323e+00+0.j,\n",
              "       9.95548722e+00+0.j, 9.60251837e+00+0.j, 9.99583423e+00+0.j,\n",
              "       9.53348980e+00+0.j, 9.37955624e+00+0.j, 9.32523549e+00+0.j,\n",
              "       9.35996608e+00+0.j, 9.29736779e+00+0.j, 9.27371029e+00+0.j,\n",
              "       9.25196282e+00+0.j, 9.57154354e+00+0.j, 9.58603633e+00+0.j,\n",
              "       9.90368849e+00+0.j, 9.66520561e+00+0.j, 9.61682772e+00+0.j,\n",
              "       9.17245845e+00+0.j, 9.18815622e+00+0.j, 9.23436720e+00+0.j,\n",
              "       9.46287054e+00+0.j, 9.42754318e+00+0.j, 9.43992605e+00+0.j,\n",
              "       9.47793986e+00+0.j, 9.25729532e+00+0.j, 9.24300576e+00+0.j,\n",
              "       9.41573844e+00+0.j, 8.00000000e+00+0.j, 8.00000000e+00+0.j,\n",
              "       9.50000000e+00+0.j])"
            ]
          },
          "metadata": {},
          "execution_count": 19
        }
      ],
      "source": [
        "eigenvals"
      ]
    },
    {
      "cell_type": "code",
      "execution_count": 20,
      "metadata": {
        "id": "fP9r3BBcfaCo",
        "colab": {
          "base_uri": "https://localhost:8080/"
        },
        "outputId": "53798a0a-909a-48f8-f011-70e6162ec955"
      },
      "outputs": [
        {
          "output_type": "execute_result",
          "data": {
            "text/plain": [
              "array([[-6.48203724e-02,  1.06949512e-01, -9.81567117e-02, ...,\n",
              "        -4.50703856e-15, -1.21927249e-14, -7.68202500e-17],\n",
              "       [-6.48203724e-02,  4.00534662e-02,  3.73979667e-02, ...,\n",
              "         3.00716631e-16, -3.22285159e-15, -1.92523569e-15],\n",
              "       [-6.48203724e-02, -3.46444824e-03,  1.02187650e-02, ...,\n",
              "         3.96450817e-14,  7.33762692e-14, -6.85125395e-15],\n",
              "       ...,\n",
              "       [-6.48203724e-02,  7.43342841e-02,  2.80117515e-02, ...,\n",
              "         1.04901930e-14,  2.14908719e-14,  4.55201194e-16],\n",
              "       [-6.48203724e-02,  1.09798984e-01, -1.20530142e-01, ...,\n",
              "         4.25759859e-15,  7.84452163e-15, -1.55456562e-15],\n",
              "       [-6.48203724e-02,  8.51466715e-02,  7.79586595e-03, ...,\n",
              "        -6.22359096e-15, -1.44294153e-14,  1.52610754e-16]])"
            ]
          },
          "metadata": {},
          "execution_count": 20
        }
      ],
      "source": [
        "eigenvcts"
      ]
    },
    {
      "cell_type": "code",
      "execution_count": 21,
      "metadata": {
        "id": "TzfJJJsaOLnL",
        "colab": {
          "base_uri": "https://localhost:8080/"
        },
        "outputId": "66b58b74-a574-4ff2-d23b-d9f47facda31"
      },
      "outputs": [
        {
          "output_type": "execute_result",
          "data": {
            "text/plain": [
              "(12.69259827915194+0j)"
            ]
          },
          "metadata": {},
          "execution_count": 21
        }
      ],
      "source": [
        "eigenvals.max()"
      ]
    },
    {
      "cell_type": "code",
      "execution_count": 22,
      "metadata": {
        "id": "jHb1RQchPs2i",
        "colab": {
          "base_uri": "https://localhost:8080/"
        },
        "outputId": "7f0b7575-5ffc-4146-e6e7-d65121723078"
      },
      "outputs": [
        {
          "output_type": "execute_result",
          "data": {
            "text/plain": [
              "(1.7763568394002505e-15+0j)"
            ]
          },
          "metadata": {},
          "execution_count": 22
        }
      ],
      "source": [
        "eigenvals.min()"
      ]
    },
    {
      "cell_type": "code",
      "execution_count": 23,
      "metadata": {
        "id": "8r13I0HeF9F8"
      },
      "outputs": [],
      "source": [
        "# We project onto the real numbers. \n",
        "def compute_spectrum_graph_laplacian(graph_laplacian):\n",
        "    \"\"\"Compute eigenvalues and eigenvectors and project \n",
        "    them onto the real numbers.\n",
        "    \"\"\"\n",
        "    eigenvals, eigenvcts = linalg.eig(graph_laplacian)\n",
        "    eigenvals = np.real(eigenvals)\n",
        "    eigenvcts = np.real(eigenvcts)\n",
        "    return eigenvals, eigenvcts\n",
        "\n",
        "eigenvals, eigenvcts = compute_spectrum_graph_laplacian(graph_laplacian)"
      ]
    },
    {
      "cell_type": "code",
      "execution_count": 24,
      "metadata": {
        "id": "iC7UuHChF_V1",
        "colab": {
          "base_uri": "https://localhost:8080/"
        },
        "outputId": "37590b37-7704-4f12-8b4f-e4bda6540712"
      },
      "outputs": [
        {
          "output_type": "stream",
          "name": "stdout",
          "text": [
            "Min Norm: 0.9999999999999997\n",
            "Max Norm: 1.0000000000000002\n"
          ]
        }
      ],
      "source": [
        "eigenvcts_norms = np.apply_along_axis(\n",
        "  lambda v: np.linalg.norm(v, ord=2), \n",
        "  axis=0, \n",
        "  arr=eigenvcts\n",
        ")\n",
        "\n",
        "print('Min Norm: ' + str(eigenvcts_norms.min()))\n",
        "print('Max Norm: ' + str(eigenvcts_norms.max()))"
      ]
    },
    {
      "cell_type": "code",
      "execution_count": 25,
      "metadata": {
        "id": "QVWj3sOKGH9b"
      },
      "outputs": [],
      "source": [
        "eigenvals_sorted_indices = np.argsort(eigenvals)\n",
        "eigenvals_sorted = eigenvals[eigenvals_sorted_indices]"
      ]
    },
    {
      "cell_type": "markdown",
      "source": [
        "Plotting all the eigenvalues"
      ],
      "metadata": {
        "id": "TAVHuBp_FLdD"
      }
    },
    {
      "cell_type": "code",
      "execution_count": 26,
      "metadata": {
        "id": "J_hRJs8sGS5w",
        "colab": {
          "base_uri": "https://localhost:8080/",
          "height": 404
        },
        "outputId": "55da15b8-e779-482f-db01-e063c7ca952b"
      },
      "outputs": [
        {
          "output_type": "display_data",
          "data": {
            "text/plain": [
              "<Figure size 720x432 with 1 Axes>"
            ],
            "image/png": "[encoded data removed]"
          },
          "metadata": {
            "needs_background": "light"
          }
        }
      ],
      "source": [
        "fig, ax = plt.subplots(figsize=(10, 6))\n",
        "sns.lineplot(x=range(1, eigenvals_sorted_indices.size + 1), y=eigenvals_sorted, ax=ax)\n",
        "ax.set(title='Sorted Eigenvalues Graph Laplacian', xlabel='index', ylabel=r'$\\lambda$');"
      ]
    },
    {
      "cell_type": "code",
      "execution_count": 31,
      "metadata": {
        "id": "A6i2XVMeGWCA",
        "colab": {
          "base_uri": "https://localhost:8080/",
          "height": 421
        },
        "outputId": "63eca3dc-18ba-483e-8c54-6c17ef425d2b"
      },
      "outputs": [
        {
          "output_type": "stream",
          "name": "stderr",
          "text": [
            "No handles with labels found to put in legend.\n"
          ]
        },
        {
          "output_type": "display_data",
          "data": {
            "text/plain": [
              "<Figure size 720x432 with 1 Axes>"
            ],
            "image/png": "[encoded data removed]"
          },
          "metadata": {
            "needs_background": "light"
          }
        }
      ],
      "source": [
        "index_lim = 10\n",
        "\n",
        "fig, ax = plt.subplots(figsize=(10, 6))\n",
        "sns.scatterplot(x=range(1, eigenvals_sorted_indices[: index_lim].size + 1), y=eigenvals_sorted[: index_lim], s=80, ax=ax)\n",
        "sns.lineplot(x=range(1, eigenvals_sorted_indices[: index_lim].size + 1), y=eigenvals_sorted[: index_lim], alpha=0.5, ax=ax)\n",
        "ax.axvline(x=2, color=sns_c[3],  linestyle='--')\n",
        "ax.legend()\n",
        "ax.set(title=f'Sorted Eigenvalues Graph Laplacian (First {index_lim})', xlabel='index', ylabel=r'$\\lambda$');"
      ]
    },
    {
      "cell_type": "code",
      "execution_count": 32,
      "metadata": {
        "id": "d9d6LLwDGm6r",
        "colab": {
          "base_uri": "https://localhost:8080/"
        },
        "outputId": "a518a3a5-459e-40db-efbc-a5cf6e48fe33"
      },
      "outputs": [
        {
          "output_type": "execute_result",
          "data": {
            "text/plain": [
              "array([[1.77635684e-15]])"
            ]
          },
          "metadata": {},
          "execution_count": 32
        }
      ],
      "source": [
        "zero_eigenvals_index = np.argwhere(abs(eigenvals) < 1e-5)\n",
        "eigenvals[zero_eigenvals_index]"
      ]
    },
    {
      "cell_type": "code",
      "execution_count": 33,
      "metadata": {
        "id": "oiS_Y8veGm12"
      },
      "outputs": [],
      "source": [
        "proj_df = pd.DataFrame(eigenvcts[:, zero_eigenvals_index.squeeze()])\n",
        "proj_df.columns = ['v_' + str(c) for c in proj_df.columns]\n"
      ]
    },
    {
      "cell_type": "code",
      "execution_count": 34,
      "metadata": {
        "id": "DHQXUVDrGcDH",
        "colab": {
          "base_uri": "https://localhost:8080/",
          "height": 500
        },
        "outputId": "4c996dba-9474-43b0-8c0c-7be719418b69"
      },
      "outputs": [
        {
          "output_type": "display_data",
          "data": {
            "text/plain": [
              "<Figure size 720x576 with 2 Axes>"
            ],
            "image/png": "[encoded data removed]"
          },
          "metadata": {
            "needs_background": "light"
          }
        }
      ],
      "source": [
        "fig, ax = plt.subplots(figsize=(10, 8))\n",
        "sns.heatmap(proj_df, ax=ax, cmap='viridis_r')\n",
        "ax.set(title='Eigenvectors Generating the Kernel of the Graph Laplacian');"
      ]
    },
    {
      "cell_type": "markdown",
      "source": [
        "Deciding which affinity to use for final clustering"
      ],
      "metadata": {
        "id": "amQ_Bf44ELEz"
      }
    },
    {
      "cell_type": "code",
      "source": [
        "from sklearn.cluster import SpectralClustering"
      ],
      "metadata": {
        "id": "fogvFHWC26Ba"
      },
      "execution_count": 35,
      "outputs": []
    },
    {
      "cell_type": "code",
      "source": [
        "spectral_model_nn = SpectralClustering(n_clusters = 2, affinity ='nearest_neighbors')\n",
        "labels_nn = spectral_model_nn.fit_predict(data)\n",
        "spectral_model_rbf = SpectralClustering(n_clusters = 2, affinity ='rbf')\n",
        "labels_rbf = spectral_model_rbf.fit_predict(data)"
      ],
      "metadata": {
        "id": "opMaDE9_2bD8"
      },
      "execution_count": 49,
      "outputs": []
    },
    {
      "cell_type": "code",
      "source": [
        "from sklearn.metrics import silhouette_score"
      ],
      "metadata": {
        "id": "u5F8DClE3LiD"
      },
      "execution_count": 37,
      "outputs": []
    },
    {
      "cell_type": "code",
      "source": [
        "affinity = ['rbf', 'nearest-neighbours']\n",
        "  \n",
        "# List of Silhouette Scores\n",
        "s_scores = []\n",
        "  \n",
        "# Evaluating the performance\n",
        "s_scores.append(silhouette_score(data, labels_rbf))\n",
        "s_scores.append(silhouette_score(data, labels_nn))\n",
        "  \n",
        "print(s_scores)"
      ],
      "metadata": {
        "id": "E5I3Xs_U3UKq",
        "colab": {
          "base_uri": "https://localhost:8080/"
        },
        "outputId": "19690150-84ea-427a-dfaf-094bb65de3c0"
      },
      "execution_count": 52,
      "outputs": [
        {
          "output_type": "stream",
          "name": "stdout",
          "text": [
            "[0.5292228554010449, 0.49774304060407765]\n"
          ]
        }
      ]
    },
    {
      "cell_type": "code",
      "source": [
        "plt.bar(affinity, s_scores)\n",
        "plt.xlabel('Affinity')\n",
        "plt.ylabel('Silhouette Score')\n",
        "plt.title('Comparison of different Clustering Models')\n",
        "plt.show()"
      ],
      "metadata": {
        "id": "LzqHomOy3aD0",
        "colab": {
          "base_uri": "https://localhost:8080/",
          "height": 295
        },
        "outputId": "f6d1ed3a-b585-4fb4-87d4-ac2882b4be38"
      },
      "execution_count": 39,
      "outputs": [
        {
          "output_type": "display_data",
          "data": {
            "text/plain": [
              "<Figure size 432x288 with 1 Axes>"
            ],
            "image/png": "[encoded data removed]"
          },
          "metadata": {
            "needs_background": "light"
          }
        }
      ]
    },
    {
      "cell_type": "markdown",
      "source": [
        "rbf does better than nearest neighbors\n"
      ],
      "metadata": {
        "id": "mafbC4-JER5N"
      }
    },
    {
      "cell_type": "code",
      "source": [
        "from sklearn.metrics import davies_bouldin_score"
      ],
      "metadata": {
        "id": "-vTj1-qqA-Ci"
      },
      "execution_count": 40,
      "outputs": []
    },
    {
      "cell_type": "code",
      "source": [
        "print(davies_bouldin_score(data,labels_nn))"
      ],
      "metadata": {
        "id": "8xG7vC4KA_o1",
        "colab": {
          "base_uri": "https://localhost:8080/"
        },
        "outputId": "88a6a233-6062-4f34-dda5-73a1fc1512f5"
      },
      "execution_count": 60,
      "outputs": [
        {
          "output_type": "stream",
          "name": "stdout",
          "text": [
            "0.7941375138826706\n"
          ]
        }
      ]
    },
    {
      "cell_type": "code",
      "source": [
        "data1 = data.copy()"
      ],
      "metadata": {
        "id": "pUuj9yhP9jer"
      },
      "execution_count": 43,
      "outputs": []
    },
    {
      "cell_type": "code",
      "execution_count": null,
      "metadata": {
        "id": "GLY2BXN9GjEV"
      },
      "outputs": [],
      "source": [
        "def project_and_transpose(eigenvals, eigenvcts, num_ev):\n",
        "    \"\"\"Select the eigenvectors corresponding to the first \n",
        "    (sorted) num_ev eigenvalues as columns in a data frame.\n",
        "    \"\"\"\n",
        "    eigenvals_sorted_indices = np.argsort(eigenvals)\n",
        "    indices = eigenvals_sorted_indices[: num_ev]\n",
        "    proj_df = pd.DataFrame(eigenvcts[:, indices.squeeze()])\n",
        "    proj_df.columns = ['v_' + str(c) for c in proj_df.columns]\n",
        "    return proj_df"
      ]
    },
    {
      "cell_type": "markdown",
      "source": [
        "###Final Clustering"
      ],
      "metadata": {
        "id": "ZcYViLpXEXHB"
      }
    },
    {
      "cell_type": "code",
      "execution_count": 61,
      "metadata": {
        "id": "1bC3uMlSP_u5",
        "colab": {
          "base_uri": "https://localhost:8080/",
          "height": 514
        },
        "outputId": "a6fffb85-4ea9-48d9-9756-bd7634d49851"
      },
      "outputs": [
        {
          "output_type": "display_data",
          "data": {
            "text/plain": [
              "<Figure size 864x576 with 1 Axes>"
            ],
            "image/png": "[encoded data removed]"
          },
          "metadata": {
            "needs_background": "light"
          }
        }
      ],
      "source": [
        "from sklearn.cluster import SpectralClustering\n",
        "plt.rcParams[\"figure.figsize\"] = (12,8)\n",
        "spec_cl = SpectralClustering(\n",
        "    n_clusters=2, \n",
        "    random_state=25, \n",
        "    n_neighbors=10, \n",
        "    affinity='rbf'\n",
        ")\n",
        "data['cluster'] = spec_cl.fit_predict(data1)\n",
        "data['cluster'] = ['c_' + str(c) for c in data['cluster']]\n",
        "\n",
        "\n",
        "fig, ax = plt.subplots()\n",
        "sns.scatterplot(x='_longitude',y='_latitude', data=data, hue='cluster', ax=ax)\n",
        "ax.set(title='Spectral Clustering - Scikit Learn');"
      ]
    },
    {
      "cell_type": "code",
      "source": [
        ""
      ],
      "metadata": {
        "id": "yntApwI93at2"
      },
      "execution_count": null,
      "outputs": []
    }
  ],
  "metadata": {
    "colab": {
      "collapsed_sections": [],
      "name": "Spectral Clustering.ipynb",
      "provenance": []
    },
    "kernelspec": {
      "display_name": "Python 3",
      "name": "python3"
    },
    "language_info": {
      "name": "python"
    }
  },
  "nbformat": 4,
  "nbformat_minor": 0
}